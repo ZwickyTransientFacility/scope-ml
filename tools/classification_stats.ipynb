{
 "cells": [
  {
   "cell_type": "markdown",
   "metadata": {
    "collapsed": true,
    "pycharm": {
     "name": "#%% md\n"
    }
   },
   "source": [
    "# Explore classification stats"
   ]
  },
  {
   "cell_type": "code",
   "execution_count": 1,
   "metadata": {
    "pycharm": {
     "name": "#%%\n"
    }
   },
   "outputs": [],
   "source": [
    "import matplotlib.pyplot as plt\n",
    "import numpy as np\n",
    "from penquins import Kowalski\n",
    "import yaml"
   ]
  },
  {
   "cell_type": "code",
   "execution_count": 2,
   "metadata": {
    "pycharm": {
     "name": "#%%\n"
    }
   },
   "outputs": [],
   "source": [
    "# This cell will work if you have added kowalski tokens to your config.yaml\n",
    "\n",
    "config_path = \"../config.yaml\"\n",
    "with open(config_path) as config_yaml:\n",
    "    config = yaml.load(config_yaml, Loader=yaml.FullLoader)\n",
    "\n",
    "hosts = [\n",
    "    x\n",
    "    for x in config['kowalski']['hosts']\n",
    "    if config['kowalski']['hosts'][x]['token'] is not None\n",
    "]\n",
    "\n",
    "instances = {\n",
    "    host: {\n",
    "        'protocol': config['kowalski']['protocol'],\n",
    "        'port': config['kowalski']['port'],\n",
    "        'host': f'{host}.caltech.edu',\n",
    "        'token': config['kowalski']['hosts'][host]['token'],\n",
    "    }\n",
    "    for host in hosts\n",
    "}\n",
    "\n",
    "# try setting up K connection if token is available\n",
    "if len(instances) > 0:\n",
    "    kowalski_instances = Kowalski(\n",
    "        timeout=config[\"kowalski\"][\"timeout\"], instances=instances\n",
    "    )"
   ]
  },
  {
   "cell_type": "code",
   "execution_count": 3,
   "metadata": {},
   "outputs": [
    {
     "name": "stdout",
     "output_type": "stream",
     "text": [
      "kowalski True\n",
      "gloria True\n",
      "melman True\n"
     ]
    }
   ],
   "source": [
    "# Test connection\n",
    "for host in hosts:\n",
    "    print(host, kowalski_instances.ping(name=host))"
   ]
  },
  {
   "cell_type": "code",
   "execution_count": 4,
   "metadata": {
    "pycharm": {
     "name": "#%%\n"
    }
   },
   "outputs": [
    {
     "name": "stdout",
     "output_type": "stream",
     "text": [
      "{'gloria': {'status': 'success', 'message': 'Successfully executed query', 'data': [{'_id': 0.0, 'count': 5121857}, {'_id': 0.01, 'count': 6572569}, {'_id': 0.02, 'count': 4490911}, {'_id': 0.03, 'count': 3271551}, {'_id': 0.04, 'count': 2513460}, {'_id': 0.05, 'count': 1990143}, {'_id': 0.06, 'count': 1615848}, {'_id': 0.07, 'count': 1335642}, {'_id': 0.08, 'count': 1128224}, {'_id': 0.09, 'count': 965341}, {'_id': 0.1, 'count': 840574}, {'_id': 0.11, 'count': 739111}, {'_id': 0.12, 'count': 658284}, {'_id': 0.13, 'count': 591437}, {'_id': 0.14, 'count': 533728}, {'_id': 0.15, 'count': 486028}, {'_id': 0.16, 'count': 444850}, {'_id': 0.17, 'count': 409685}, {'_id': 0.18, 'count': 380355}, {'_id': 0.19, 'count': 353132}, {'_id': 0.2, 'count': 330209}, {'_id': 0.21, 'count': 309188}, {'_id': 0.22, 'count': 292050}, {'_id': 0.23, 'count': 275628}, {'_id': 0.24, 'count': 261639}, {'_id': 0.25, 'count': 248917}, {'_id': 0.26, 'count': 238383}, {'_id': 0.27, 'count': 228232}, {'_id': 0.28, 'count': 218337}, {'_id': 0.29, 'count': 210018}, {'_id': 0.3, 'count': 201871}, {'_id': 0.31, 'count': 194375}, {'_id': 0.32, 'count': 187962}, {'_id': 0.33, 'count': 182310}, {'_id': 0.34, 'count': 176827}, {'_id': 0.35000000000000003, 'count': 171524}, {'_id': 0.36, 'count': 166663}, {'_id': 0.37, 'count': 162388}, {'_id': 0.38, 'count': 158446}, {'_id': 0.39, 'count': 153300}, {'_id': 0.4, 'count': 149984}, {'_id': 0.41000000000000003, 'count': 146347}, {'_id': 0.42, 'count': 143121}, {'_id': 0.43, 'count': 139476}, {'_id': 0.44, 'count': 136334}, {'_id': 0.45, 'count': 133745}, {'_id': 0.46, 'count': 131387}, {'_id': 0.47000000000000003, 'count': 128400}, {'_id': 0.48, 'count': 125555}, {'_id': 0.49, 'count': 122706}, {'_id': 0.5, 'count': 119742}, {'_id': 0.51, 'count': 117622}, {'_id': 0.52, 'count': 114792}, {'_id': 0.53, 'count': 113001}, {'_id': 0.54, 'count': 111364}, {'_id': 0.55, 'count': 108930}, {'_id': 0.56, 'count': 108131}, {'_id': 0.5700000000000001, 'count': 106746}, {'_id': 0.58, 'count': 105639}, {'_id': 0.59, 'count': 104582}, {'_id': 0.6, 'count': 103320}, {'_id': 0.61, 'count': 103017}, {'_id': 0.62, 'count': 102457}, {'_id': 0.63, 'count': 101848}, {'_id': 0.64, 'count': 102099}, {'_id': 0.65, 'count': 102351}, {'_id': 0.66, 'count': 101869}, {'_id': 0.67, 'count': 102101}, {'_id': 0.68, 'count': 101640}, {'_id': 0.6900000000000001, 'count': 101863}, {'_id': 0.7000000000000001, 'count': 102592}, {'_id': 0.71, 'count': 102004}, {'_id': 0.72, 'count': 102315}, {'_id': 0.73, 'count': 102433}, {'_id': 0.74, 'count': 101865}, {'_id': 0.75, 'count': 101451}, {'_id': 0.76, 'count': 101501}, {'_id': 0.77, 'count': 100295}, {'_id': 0.78, 'count': 100369}, {'_id': 0.79, 'count': 100269}, {'_id': 0.8, 'count': 100859}, {'_id': 0.81, 'count': 100060}, {'_id': 0.8200000000000001, 'count': 100029}, {'_id': 0.8300000000000001, 'count': 99630}, {'_id': 0.84, 'count': 99119}, {'_id': 0.85, 'count': 98889}, {'_id': 0.86, 'count': 98421}, {'_id': 0.87, 'count': 96300}, {'_id': 0.88, 'count': 95543}, {'_id': 0.89, 'count': 92626}, {'_id': 0.9, 'count': 90224}, {'_id': 0.91, 'count': 87633}, {'_id': 0.92, 'count': 84593}, {'_id': 0.93, 'count': 81385}, {'_id': 0.9400000000000001, 'count': 77469}, {'_id': 0.9500000000000001, 'count': 74680}, {'_id': 0.96, 'count': 70752}, {'_id': 0.97, 'count': 64539}, {'_id': 0.98, 'count': 55945}, {'_id': 0.99, 'count': 53371}]}}\n"
     ]
    }
   ],
   "source": [
    "query = {\n",
    "    \"query_type\": \"aggregate\",\n",
    "    \"query\": {\n",
    "        \"catalog\": config[\"kowalski\"][\"collections\"][\"classifications\"],\n",
    "        \"pipeline\": [\n",
    "            {\n",
    "                \"$project\": {\n",
    "                    \"_id\": 0,\n",
    "                    \"vnv_xgb\": 1,\n",
    "                }\n",
    "            },\n",
    "            {\n",
    "                \"$bucket\": {\n",
    "                    \"groupBy\": \"$vnv_xgb\",\n",
    "                    \"boundaries\": np.arange(0, 1.01, 0.01).tolist()\n",
    "                }\n",
    "            }\n",
    "        ]\n",
    "    },\n",
    "    \"kwargs\": {\n",
    "        \"max_time_ms\": 300 * 1e3\n",
    "    }\n",
    "}\n",
    "response = kowalski_instances.query(query=query, name='gloria')\n",
    "print(response)"
   ]
  },
  {
   "cell_type": "code",
   "execution_count": 5,
   "metadata": {
    "pycharm": {
     "name": "#%%\n"
    }
   },
   "outputs": [
    {
     "data": {
      "text/plain": [
       "[5121857,\n",
       " 6572569,\n",
       " 4490911,\n",
       " 3271551,\n",
       " 2513460,\n",
       " 1990143,\n",
       " 1615848,\n",
       " 1335642,\n",
       " 1128224,\n",
       " 965341,\n",
       " 840574,\n",
       " 739111,\n",
       " 658284,\n",
       " 591437,\n",
       " 533728,\n",
       " 486028,\n",
       " 444850,\n",
       " 409685,\n",
       " 380355,\n",
       " 353132,\n",
       " 330209,\n",
       " 309188,\n",
       " 292050,\n",
       " 275628,\n",
       " 261639,\n",
       " 248917,\n",
       " 238383,\n",
       " 228232,\n",
       " 218337,\n",
       " 210018,\n",
       " 201871,\n",
       " 194375,\n",
       " 187962,\n",
       " 182310,\n",
       " 176827,\n",
       " 171524,\n",
       " 166663,\n",
       " 162388,\n",
       " 158446,\n",
       " 153300,\n",
       " 149984,\n",
       " 146347,\n",
       " 143121,\n",
       " 139476,\n",
       " 136334,\n",
       " 133745,\n",
       " 131387,\n",
       " 128400,\n",
       " 125555,\n",
       " 122706,\n",
       " 119742,\n",
       " 117622,\n",
       " 114792,\n",
       " 113001,\n",
       " 111364,\n",
       " 108930,\n",
       " 108131,\n",
       " 106746,\n",
       " 105639,\n",
       " 104582,\n",
       " 103320,\n",
       " 103017,\n",
       " 102457,\n",
       " 101848,\n",
       " 102099,\n",
       " 102351,\n",
       " 101869,\n",
       " 102101,\n",
       " 101640,\n",
       " 101863,\n",
       " 102592,\n",
       " 102004,\n",
       " 102315,\n",
       " 102433,\n",
       " 101865,\n",
       " 101451,\n",
       " 101501,\n",
       " 100295,\n",
       " 100369,\n",
       " 100269,\n",
       " 100859,\n",
       " 100060,\n",
       " 100029,\n",
       " 99630,\n",
       " 99119,\n",
       " 98889,\n",
       " 98421,\n",
       " 96300,\n",
       " 95543,\n",
       " 92626,\n",
       " 90224,\n",
       " 87633,\n",
       " 84593,\n",
       " 81385,\n",
       " 77469,\n",
       " 74680,\n",
       " 70752,\n",
       " 64539,\n",
       " 55945,\n",
       " 53371]"
      ]
     },
     "execution_count": 5,
     "metadata": {},
     "output_type": "execute_result"
    }
   ],
   "source": [
    "data = response.get(\"gloria\").get(\"data\")\n",
    "score_lower_bounds = [entry[\"_id\"] for entry in data]\n",
    "counts = [entry[\"count\"] for entry in data]\n",
    "counts"
   ]
  },
  {
   "cell_type": "code",
   "execution_count": 6,
   "metadata": {
    "pycharm": {
     "name": "#%%\n"
    }
   },
   "outputs": [
    {
     "data": {
      "text/plain": [
       "<matplotlib.legend.Legend at 0x152ebe8f0>"
      ]
     },
     "execution_count": 6,
     "metadata": {},
     "output_type": "execute_result"
    },
    {
     "data": {
      "image/png": "[encoded data removed]",
      "text/plain": [
       "<Figure size 1600x600 with 1 Axes>"
      ]
     },
     "metadata": {},
     "output_type": "display_data"
    }
   ],
   "source": [
    "# Plot number of sources per probability bin for 'variable' label (from XGB classifier)\n",
    "\n",
    "fig = plt.figure(figsize=(8, 3), dpi=200)\n",
    "ax = fig.add_subplot(1, 1, 1)\n",
    "ax.plot(\n",
    "    score_lower_bounds,\n",
    "    counts,\n",
    "    \".\",\n",
    "    label='vnv'\n",
    ")\n",
    "ax.set_yscale(\"log\")\n",
    "ax.set_xlabel('Classification probability')\n",
    "ax.set_ylabel('Number of sources')\n",
    "ax.legend()\n"
   ]
  },
  {
   "cell_type": "code",
   "execution_count": null,
   "metadata": {},
   "outputs": [],
   "source": []
  }
 ],
 "metadata": {
  "kernelspec": {
   "display_name": "Python 3 (ipykernel)",
   "language": "python",
   "name": "python3"
  },
  "language_info": {
   "codemirror_mode": {
    "name": "ipython",
    "version": 3
   },
   "file_extension": ".py",
   "mimetype": "text/x-python",
   "name": "python",
   "nbconvert_exporter": "python",
   "pygments_lexer": "ipython3",
   "version": "3.10.10"
  }
 },
 "nbformat": 4,
 "nbformat_minor": 1
}
